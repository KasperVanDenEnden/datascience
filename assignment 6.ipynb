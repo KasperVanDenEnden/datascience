{
 "cells": [
  {
   "cell_type": "markdown",
   "id": "e49605c2",
   "metadata": {},
   "source": [
    "Portfolio assignment 6\n",
    "60 min: Perform a univariate analysis on at least 2 columns with categorical data and on at least 2 columns with numerical data in the dataset that you chose in portfolio assignment 4. Commit the Notebook to your portfolio when you're finished.\n"
   ]
  },
  {
   "cell_type": "code",
   "execution_count": 2,
   "id": "d2f41b54",
   "metadata": {},
   "outputs": [
    {
     "data": {
      "text/html": [
       "<div>\n",
       "<style scoped>\n",
       "    .dataframe tbody tr th:only-of-type {\n",
       "        vertical-align: middle;\n",
       "    }\n",
       "\n",
       "    .dataframe tbody tr th {\n",
       "        vertical-align: top;\n",
       "    }\n",
       "\n",
       "    .dataframe thead th {\n",
       "        text-align: right;\n",
       "    }\n",
       "</style>\n",
       "<table border=\"1\" class=\"dataframe\">\n",
       "  <thead>\n",
       "    <tr style=\"text-align: right;\">\n",
       "      <th></th>\n",
       "      <th>Pokemon Id</th>\n",
       "      <th>Pokedex Number</th>\n",
       "      <th>Pokemon Name</th>\n",
       "      <th>Classification</th>\n",
       "      <th>Alternate Form Name</th>\n",
       "      <th>Original Pokemon ID</th>\n",
       "      <th>Legendary Type</th>\n",
       "      <th>Pokemon Height</th>\n",
       "      <th>Pokemon Weight</th>\n",
       "      <th>Primary Type</th>\n",
       "      <th>...</th>\n",
       "      <th>Speed EV</th>\n",
       "      <th>EV Yield Total</th>\n",
       "      <th>Catch Rate</th>\n",
       "      <th>Experience Growth</th>\n",
       "      <th>Experience Growth Total</th>\n",
       "      <th>Primary Egg Group</th>\n",
       "      <th>Secondary Egg Group</th>\n",
       "      <th>Egg Cycle Count</th>\n",
       "      <th>Pre-Evolution Pokemon Id</th>\n",
       "      <th>Evolution Details</th>\n",
       "    </tr>\n",
       "  </thead>\n",
       "  <tbody>\n",
       "    <tr>\n",
       "      <th>0</th>\n",
       "      <td>1</td>\n",
       "      <td>1</td>\n",
       "      <td>\"Bulbasaur\"</td>\n",
       "      <td>\"Seed Pokémon\"</td>\n",
       "      <td>NaN</td>\n",
       "      <td>NaN</td>\n",
       "      <td>NaN</td>\n",
       "      <td>0.7</td>\n",
       "      <td>6.9</td>\n",
       "      <td>\"Grass\"</td>\n",
       "      <td>...</td>\n",
       "      <td>0</td>\n",
       "      <td>1</td>\n",
       "      <td>45</td>\n",
       "      <td>\"Medium Slow\"</td>\n",
       "      <td>1059860</td>\n",
       "      <td>\"Monster\"</td>\n",
       "      <td>\"Grass\"</td>\n",
       "      <td>20</td>\n",
       "      <td>NaN</td>\n",
       "      <td>NaN</td>\n",
       "    </tr>\n",
       "    <tr>\n",
       "      <th>1</th>\n",
       "      <td>2</td>\n",
       "      <td>2</td>\n",
       "      <td>\"Ivysaur\"</td>\n",
       "      <td>\"Seed Pokémon\"</td>\n",
       "      <td>NaN</td>\n",
       "      <td>NaN</td>\n",
       "      <td>NaN</td>\n",
       "      <td>1.0</td>\n",
       "      <td>13.0</td>\n",
       "      <td>\"Grass\"</td>\n",
       "      <td>...</td>\n",
       "      <td>0</td>\n",
       "      <td>2</td>\n",
       "      <td>45</td>\n",
       "      <td>\"Medium Slow\"</td>\n",
       "      <td>1059860</td>\n",
       "      <td>\"Monster\"</td>\n",
       "      <td>\"Grass\"</td>\n",
       "      <td>20</td>\n",
       "      <td>1.0</td>\n",
       "      <td>\"Level 16\"</td>\n",
       "    </tr>\n",
       "    <tr>\n",
       "      <th>2</th>\n",
       "      <td>3</td>\n",
       "      <td>3</td>\n",
       "      <td>\"Venusaur\"</td>\n",
       "      <td>\"Seed Pokémon\"</td>\n",
       "      <td>NaN</td>\n",
       "      <td>NaN</td>\n",
       "      <td>NaN</td>\n",
       "      <td>2.0</td>\n",
       "      <td>100.0</td>\n",
       "      <td>\"Grass\"</td>\n",
       "      <td>...</td>\n",
       "      <td>0</td>\n",
       "      <td>3</td>\n",
       "      <td>45</td>\n",
       "      <td>\"Medium Slow\"</td>\n",
       "      <td>1059860</td>\n",
       "      <td>\"Monster\"</td>\n",
       "      <td>\"Grass\"</td>\n",
       "      <td>20</td>\n",
       "      <td>2.0</td>\n",
       "      <td>\"Level 32\"</td>\n",
       "    </tr>\n",
       "    <tr>\n",
       "      <th>3</th>\n",
       "      <td>4</td>\n",
       "      <td>3</td>\n",
       "      <td>\"Venusaur\"</td>\n",
       "      <td>\"Seed Pokémon\"</td>\n",
       "      <td>\"Mega\"</td>\n",
       "      <td>3.0</td>\n",
       "      <td>NaN</td>\n",
       "      <td>2.4</td>\n",
       "      <td>155.5</td>\n",
       "      <td>\"Grass\"</td>\n",
       "      <td>...</td>\n",
       "      <td>0</td>\n",
       "      <td>3</td>\n",
       "      <td>45</td>\n",
       "      <td>\"Medium Slow\"</td>\n",
       "      <td>1059860</td>\n",
       "      <td>\"Monster\"</td>\n",
       "      <td>\"Grass\"</td>\n",
       "      <td>20</td>\n",
       "      <td>NaN</td>\n",
       "      <td>NaN</td>\n",
       "    </tr>\n",
       "    <tr>\n",
       "      <th>4</th>\n",
       "      <td>1526</td>\n",
       "      <td>3</td>\n",
       "      <td>\"Venusaur\"</td>\n",
       "      <td>\"Seed Pokémon\"</td>\n",
       "      <td>\"Gigantamax\"</td>\n",
       "      <td>3.0</td>\n",
       "      <td>NaN</td>\n",
       "      <td>24.0</td>\n",
       "      <td>0.0</td>\n",
       "      <td>\"Grass\"</td>\n",
       "      <td>...</td>\n",
       "      <td>0</td>\n",
       "      <td>3</td>\n",
       "      <td>45</td>\n",
       "      <td>\"Medium Slow\"</td>\n",
       "      <td>1059860</td>\n",
       "      <td>\"Monster\"</td>\n",
       "      <td>\"Grass\"</td>\n",
       "      <td>20</td>\n",
       "      <td>NaN</td>\n",
       "      <td>NaN</td>\n",
       "    </tr>\n",
       "  </tbody>\n",
       "</table>\n",
       "<p>5 rows × 45 columns</p>\n",
       "</div>"
      ],
      "text/plain": [
       "   Pokemon Id  Pokedex Number Pokemon Name  Classification  \\\n",
       "0           1               1  \"Bulbasaur\"  \"Seed Pokémon\"   \n",
       "1           2               2    \"Ivysaur\"  \"Seed Pokémon\"   \n",
       "2           3               3   \"Venusaur\"  \"Seed Pokémon\"   \n",
       "3           4               3   \"Venusaur\"  \"Seed Pokémon\"   \n",
       "4        1526               3   \"Venusaur\"  \"Seed Pokémon\"   \n",
       "\n",
       "  Alternate Form Name  Original Pokemon ID Legendary Type  Pokemon Height  \\\n",
       "0                 NaN                  NaN            NaN             0.7   \n",
       "1                 NaN                  NaN            NaN             1.0   \n",
       "2                 NaN                  NaN            NaN             2.0   \n",
       "3              \"Mega\"                  3.0            NaN             2.4   \n",
       "4        \"Gigantamax\"                  3.0            NaN            24.0   \n",
       "\n",
       "   Pokemon Weight Primary Type  ... Speed EV EV Yield Total Catch Rate  \\\n",
       "0             6.9      \"Grass\"  ...        0              1         45   \n",
       "1            13.0      \"Grass\"  ...        0              2         45   \n",
       "2           100.0      \"Grass\"  ...        0              3         45   \n",
       "3           155.5      \"Grass\"  ...        0              3         45   \n",
       "4             0.0      \"Grass\"  ...        0              3         45   \n",
       "\n",
       "  Experience Growth Experience Growth Total Primary Egg Group  \\\n",
       "0     \"Medium Slow\"                 1059860         \"Monster\"   \n",
       "1     \"Medium Slow\"                 1059860         \"Monster\"   \n",
       "2     \"Medium Slow\"                 1059860         \"Monster\"   \n",
       "3     \"Medium Slow\"                 1059860         \"Monster\"   \n",
       "4     \"Medium Slow\"                 1059860         \"Monster\"   \n",
       "\n",
       "  Secondary Egg Group Egg Cycle Count Pre-Evolution Pokemon Id  \\\n",
       "0             \"Grass\"              20                      NaN   \n",
       "1             \"Grass\"              20                      1.0   \n",
       "2             \"Grass\"              20                      2.0   \n",
       "3             \"Grass\"              20                      NaN   \n",
       "4             \"Grass\"              20                      NaN   \n",
       "\n",
       "   Evolution Details  \n",
       "0                NaN  \n",
       "1         \"Level 16\"  \n",
       "2         \"Level 32\"  \n",
       "3                NaN  \n",
       "4                NaN  \n",
       "\n",
       "[5 rows x 45 columns]"
      ]
     },
     "execution_count": 2,
     "metadata": {},
     "output_type": "execute_result"
    }
   ],
   "source": [
    "\n",
    "import pandas as pd\n",
    "pokemon = pd.read_csv('pokemon_db.csv', sep=',')\n",
    "pokemon.head()"
   ]
  },
  {
   "cell_type": "code",
   "execution_count": 19,
   "id": "b787dfdd",
   "metadata": {},
   "outputs": [
    {
     "data": {
      "text/plain": [
       "<AxesSubplot:>"
      ]
     },
     "execution_count": 19,
     "metadata": {},
     "output_type": "execute_result"
    },
    {
     "data": {
      "image/png": "[encoded data removed]",
      "text/plain": [
       "<Figure size 640x480 with 1 Axes>"
      ]
     },
     "metadata": {},
     "output_type": "display_data"
    }
   ],
   "source": [
    "TypeFilter = pokemon['Primary Type'] \n",
    "TypeFilter.value_counts().plot(kind='box')"
   ]
  },
  {
   "cell_type": "code",
   "execution_count": 20,
   "id": "8e2fbe32",
   "metadata": {},
   "outputs": [
    {
     "data": {
      "text/plain": [
       "<AxesSubplot:>"
      ]
     },
     "execution_count": 20,
     "metadata": {},
     "output_type": "execute_result"
    },
    {
     "data": {
      "image/png": "[encoded data removed]",
      "text/plain": [
       "<Figure size 640x480 with 1 Axes>"
      ]
     },
     "metadata": {},
     "output_type": "display_data"
    }
   ],
   "source": [
    "TypeFilter = pokemon['Secondary Type'] \n",
    "TypeFilter.value_counts().plot(kind='box')"
   ]
  },
  {
   "cell_type": "code",
   "execution_count": 21,
   "id": "cc9abf03",
   "metadata": {},
   "outputs": [
    {
     "data": {
      "text/plain": [
       "<AxesSubplot:>"
      ]
     },
     "execution_count": 21,
     "metadata": {},
     "output_type": "execute_result"
    },
    {
     "data": {
      "image/png": "[encoded data removed]",
      "text/plain": [
       "<Figure size 640x480 with 1 Axes>"
      ]
     },
     "metadata": {},
     "output_type": "display_data"
    }
   ],
   "source": [
    "TypeFilter = pokemon[['Primary Type','Secondary Type']] \n",
    "TypeFilter.value_counts().plot(kind='box')"
   ]
  },
  {
   "cell_type": "code",
   "execution_count": null,
   "id": "d3376f2a",
   "metadata": {},
   "outputs": [],
   "source": []
  }
 ],
 "metadata": {
  "kernelspec": {
   "display_name": "Python 3 (ipykernel)",
   "language": "python",
   "name": "python3"
  },
  "language_info": {
   "codemirror_mode": {
    "name": "ipython",
    "version": 3
   },
   "file_extension": ".py",
   "mimetype": "text/x-python",
   "name": "python",
   "nbconvert_exporter": "python",
   "pygments_lexer": "ipython3",
   "version": "3.9.13"
  }
 },
 "nbformat": 4,
 "nbformat_minor": 5
}
