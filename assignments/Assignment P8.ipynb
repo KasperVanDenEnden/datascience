{
 "cells": [
  {
   "cell_type": "code",
   "execution_count": 1,
   "id": "14395f9c",
   "metadata": {},
   "outputs": [
    {
     "data": {
      "text/html": [
       "<div>\n",
       "<style scoped>\n",
       "    .dataframe tbody tr th:only-of-type {\n",
       "        vertical-align: middle;\n",
       "    }\n",
       "\n",
       "    .dataframe tbody tr th {\n",
       "        vertical-align: top;\n",
       "    }\n",
       "\n",
       "    .dataframe thead th {\n",
       "        text-align: right;\n",
       "    }\n",
       "</style>\n",
       "<table border=\"1\" class=\"dataframe\">\n",
       "  <thead>\n",
       "    <tr style=\"text-align: right;\">\n",
       "      <th></th>\n",
       "      <th>ID</th>\n",
       "      <th>Title</th>\n",
       "      <th>English</th>\n",
       "      <th>Synopsis</th>\n",
       "      <th>Type</th>\n",
       "      <th>Episodes</th>\n",
       "      <th>Status</th>\n",
       "      <th>Start_Aired</th>\n",
       "      <th>End_Aired</th>\n",
       "      <th>Premiered</th>\n",
       "      <th>...</th>\n",
       "      <th>Themes</th>\n",
       "      <th>Demographics</th>\n",
       "      <th>Duration_Minutes</th>\n",
       "      <th>Rating</th>\n",
       "      <th>Score</th>\n",
       "      <th>Scored_Users</th>\n",
       "      <th>Ranked</th>\n",
       "      <th>Popularity</th>\n",
       "      <th>Members</th>\n",
       "      <th>Favorites</th>\n",
       "    </tr>\n",
       "  </thead>\n",
       "  <tbody>\n",
       "    <tr>\n",
       "      <th>0</th>\n",
       "      <td>16498</td>\n",
       "      <td>Shingeki no Kyojin</td>\n",
       "      <td>Attack on Titan</td>\n",
       "      <td>Centuries ago, mankind was slaughtered to near...</td>\n",
       "      <td>TV</td>\n",
       "      <td>25</td>\n",
       "      <td>Finished Airing</td>\n",
       "      <td>7-Apr-13</td>\n",
       "      <td>29-Sep-13</td>\n",
       "      <td>Spring 2013</td>\n",
       "      <td>...</td>\n",
       "      <td>Gore, Military, Survival</td>\n",
       "      <td>Shounen</td>\n",
       "      <td>24</td>\n",
       "      <td>R - 17+ (violence &amp; profanity)</td>\n",
       "      <td>8.531</td>\n",
       "      <td>519803.0</td>\n",
       "      <td>1002.0</td>\n",
       "      <td>1</td>\n",
       "      <td>3524109</td>\n",
       "      <td>155695</td>\n",
       "    </tr>\n",
       "    <tr>\n",
       "      <th>1</th>\n",
       "      <td>1535</td>\n",
       "      <td>Death Note</td>\n",
       "      <td>Death Note</td>\n",
       "      <td>Brutal murders, petty thefts, and senseless vi...</td>\n",
       "      <td>TV</td>\n",
       "      <td>37</td>\n",
       "      <td>Finished Airing</td>\n",
       "      <td>4-Oct-06</td>\n",
       "      <td>27-Jun-07</td>\n",
       "      <td>Fall 2006</td>\n",
       "      <td>...</td>\n",
       "      <td>Psychological</td>\n",
       "      <td>Shounen</td>\n",
       "      <td>23</td>\n",
       "      <td>R - 17+ (violence &amp; profanity)</td>\n",
       "      <td>8.621</td>\n",
       "      <td>485487.0</td>\n",
       "      <td>732.0</td>\n",
       "      <td>2</td>\n",
       "      <td>3504535</td>\n",
       "      <td>159701</td>\n",
       "    </tr>\n",
       "    <tr>\n",
       "      <th>2</th>\n",
       "      <td>5114</td>\n",
       "      <td>Fullmetal Alchemist: Brotherhood</td>\n",
       "      <td>Fullmetal Alchemist Brotherhood</td>\n",
       "      <td>After a horrific alchemy experiment goes wrong...</td>\n",
       "      <td>TV</td>\n",
       "      <td>64</td>\n",
       "      <td>Finished Airing</td>\n",
       "      <td>5-Apr-09</td>\n",
       "      <td>4-Jul-10</td>\n",
       "      <td>Spring 2009</td>\n",
       "      <td>...</td>\n",
       "      <td>Military</td>\n",
       "      <td>Shounen</td>\n",
       "      <td>24</td>\n",
       "      <td>R - 17+ (violence &amp; profanity)</td>\n",
       "      <td>9.131</td>\n",
       "      <td>900398.0</td>\n",
       "      <td>12.0</td>\n",
       "      <td>3</td>\n",
       "      <td>2978455</td>\n",
       "      <td>207772</td>\n",
       "    </tr>\n",
       "    <tr>\n",
       "      <th>3</th>\n",
       "      <td>30276</td>\n",
       "      <td>One Punch Man</td>\n",
       "      <td>One Punch Man</td>\n",
       "      <td>The seemingly unimpressive Saitama has a rathe...</td>\n",
       "      <td>TV</td>\n",
       "      <td>12</td>\n",
       "      <td>Finished Airing</td>\n",
       "      <td>5-Oct-15</td>\n",
       "      <td>21-Dec-15</td>\n",
       "      <td>Fall 2015</td>\n",
       "      <td>...</td>\n",
       "      <td>Parody, Super Power</td>\n",
       "      <td>Seinen</td>\n",
       "      <td>24</td>\n",
       "      <td>R - 17+ (violence &amp; profanity)</td>\n",
       "      <td>8.511</td>\n",
       "      <td>19066.0</td>\n",
       "      <td>1112.0</td>\n",
       "      <td>4</td>\n",
       "      <td>2879907</td>\n",
       "      <td>59651</td>\n",
       "    </tr>\n",
       "    <tr>\n",
       "      <th>4</th>\n",
       "      <td>11757</td>\n",
       "      <td>Sword Art Online</td>\n",
       "      <td>Sword Art Online</td>\n",
       "      <td>Ever since the release of the innovative Nerve...</td>\n",
       "      <td>TV</td>\n",
       "      <td>25</td>\n",
       "      <td>Finished Airing</td>\n",
       "      <td>8-Jul-12</td>\n",
       "      <td>23-Dec-12</td>\n",
       "      <td>Summer 2012</td>\n",
       "      <td>...</td>\n",
       "      <td>Love Polygon, Video Game</td>\n",
       "      <td>Unknown</td>\n",
       "      <td>23</td>\n",
       "      <td>PG-13 - Teens 13 or older</td>\n",
       "      <td>7.201</td>\n",
       "      <td>990254.0</td>\n",
       "      <td>29562.0</td>\n",
       "      <td>5</td>\n",
       "      <td>2813565</td>\n",
       "      <td>64997</td>\n",
       "    </tr>\n",
       "    <tr>\n",
       "      <th>...</th>\n",
       "      <td>...</td>\n",
       "      <td>...</td>\n",
       "      <td>...</td>\n",
       "      <td>...</td>\n",
       "      <td>...</td>\n",
       "      <td>...</td>\n",
       "      <td>...</td>\n",
       "      <td>...</td>\n",
       "      <td>...</td>\n",
       "      <td>...</td>\n",
       "      <td>...</td>\n",
       "      <td>...</td>\n",
       "      <td>...</td>\n",
       "      <td>...</td>\n",
       "      <td>...</td>\n",
       "      <td>...</td>\n",
       "      <td>...</td>\n",
       "      <td>...</td>\n",
       "      <td>...</td>\n",
       "      <td>...</td>\n",
       "      <td>...</td>\n",
       "    </tr>\n",
       "    <tr>\n",
       "      <th>21455</th>\n",
       "      <td>45064</td>\n",
       "      <td>Xiao Gongzhu Ai Wei La Yu Shenmi Wangguo</td>\n",
       "      <td>Princess and the Kingdom</td>\n",
       "      <td>Unknown</td>\n",
       "      <td>Movie</td>\n",
       "      <td>1</td>\n",
       "      <td>Finished Airing</td>\n",
       "      <td>12-May-18</td>\n",
       "      <td>Not Available</td>\n",
       "      <td>Unknown</td>\n",
       "      <td>...</td>\n",
       "      <td>Unknown</td>\n",
       "      <td>Kids</td>\n",
       "      <td>78</td>\n",
       "      <td>G - All Ages</td>\n",
       "      <td>NaN</td>\n",
       "      <td>NaN</td>\n",
       "      <td>160892.0</td>\n",
       "      <td>21487</td>\n",
       "      <td>7</td>\n",
       "      <td>0</td>\n",
       "    </tr>\n",
       "    <tr>\n",
       "      <th>21456</th>\n",
       "      <td>45065</td>\n",
       "      <td>Xiao Gongzhu Ai Wei La Yu Shenmi Wangguo 2</td>\n",
       "      <td>Avera and the Mystical Kingdom 2</td>\n",
       "      <td>Unknown</td>\n",
       "      <td>Movie</td>\n",
       "      <td>1</td>\n",
       "      <td>Finished Airing</td>\n",
       "      <td>22-Aug-20</td>\n",
       "      <td>Not Available</td>\n",
       "      <td>Unknown</td>\n",
       "      <td>...</td>\n",
       "      <td>Unknown</td>\n",
       "      <td>Kids</td>\n",
       "      <td>80</td>\n",
       "      <td>G - All Ages</td>\n",
       "      <td>NaN</td>\n",
       "      <td>NaN</td>\n",
       "      <td>160902.0</td>\n",
       "      <td>21488</td>\n",
       "      <td>6</td>\n",
       "      <td>0</td>\n",
       "    </tr>\n",
       "    <tr>\n",
       "      <th>21457</th>\n",
       "      <td>45059</td>\n",
       "      <td>Yongzhe Chuang Mo Cheng</td>\n",
       "      <td>Brave City</td>\n",
       "      <td>Unknown</td>\n",
       "      <td>Movie</td>\n",
       "      <td>1</td>\n",
       "      <td>Finished Airing</td>\n",
       "      <td>16-Mar-18</td>\n",
       "      <td>Not Available</td>\n",
       "      <td>Unknown</td>\n",
       "      <td>...</td>\n",
       "      <td>Unknown</td>\n",
       "      <td>Unknown</td>\n",
       "      <td>80</td>\n",
       "      <td>G - All Ages</td>\n",
       "      <td>NaN</td>\n",
       "      <td>NaN</td>\n",
       "      <td>164032.0</td>\n",
       "      <td>21489</td>\n",
       "      <td>6</td>\n",
       "      <td>0</td>\n",
       "    </tr>\n",
       "    <tr>\n",
       "      <th>21458</th>\n",
       "      <td>45063</td>\n",
       "      <td>Yu Shen Chuan: Wangzhe Shaonian</td>\n",
       "      <td>The Juvenile of King Yu</td>\n",
       "      <td>Unknown</td>\n",
       "      <td>Movie</td>\n",
       "      <td>1</td>\n",
       "      <td>Finished Airing</td>\n",
       "      <td>15-Aug-18</td>\n",
       "      <td>Not Available</td>\n",
       "      <td>Unknown</td>\n",
       "      <td>...</td>\n",
       "      <td>Unknown</td>\n",
       "      <td>Unknown</td>\n",
       "      <td>90</td>\n",
       "      <td>G - All Ages</td>\n",
       "      <td>NaN</td>\n",
       "      <td>NaN</td>\n",
       "      <td>164462.0</td>\n",
       "      <td>21490</td>\n",
       "      <td>6</td>\n",
       "      <td>0</td>\n",
       "    </tr>\n",
       "    <tr>\n",
       "      <th>21459</th>\n",
       "      <td>45061</td>\n",
       "      <td>Konglong Wang</td>\n",
       "      <td>Dino King</td>\n",
       "      <td>Unknown</td>\n",
       "      <td>Movie</td>\n",
       "      <td>1</td>\n",
       "      <td>Finished Airing</td>\n",
       "      <td>10-Nov-18</td>\n",
       "      <td>Not Available</td>\n",
       "      <td>Unknown</td>\n",
       "      <td>...</td>\n",
       "      <td>Historical</td>\n",
       "      <td>Kids</td>\n",
       "      <td>95</td>\n",
       "      <td>G - All Ages</td>\n",
       "      <td>NaN</td>\n",
       "      <td>NaN</td>\n",
       "      <td>193202.0</td>\n",
       "      <td>21490</td>\n",
       "      <td>6</td>\n",
       "      <td>0</td>\n",
       "    </tr>\n",
       "  </tbody>\n",
       "</table>\n",
       "<p>21460 rows × 25 columns</p>\n",
       "</div>"
      ],
      "text/plain": [
       "          ID                                       Title  \\\n",
       "0      16498                          Shingeki no Kyojin   \n",
       "1       1535                                  Death Note   \n",
       "2       5114            Fullmetal Alchemist: Brotherhood   \n",
       "3      30276                               One Punch Man   \n",
       "4      11757                            Sword Art Online   \n",
       "...      ...                                         ...   \n",
       "21455  45064    Xiao Gongzhu Ai Wei La Yu Shenmi Wangguo   \n",
       "21456  45065  Xiao Gongzhu Ai Wei La Yu Shenmi Wangguo 2   \n",
       "21457  45059                     Yongzhe Chuang Mo Cheng   \n",
       "21458  45063             Yu Shen Chuan: Wangzhe Shaonian   \n",
       "21459  45061                               Konglong Wang   \n",
       "\n",
       "                                English  \\\n",
       "0                       Attack on Titan   \n",
       "1                            Death Note   \n",
       "2       Fullmetal Alchemist Brotherhood   \n",
       "3                         One Punch Man   \n",
       "4                      Sword Art Online   \n",
       "...                                 ...   \n",
       "21455          Princess and the Kingdom   \n",
       "21456  Avera and the Mystical Kingdom 2   \n",
       "21457                        Brave City   \n",
       "21458           The Juvenile of King Yu   \n",
       "21459                         Dino King   \n",
       "\n",
       "                                                Synopsis   Type  Episodes  \\\n",
       "0      Centuries ago, mankind was slaughtered to near...     TV        25   \n",
       "1      Brutal murders, petty thefts, and senseless vi...     TV        37   \n",
       "2      After a horrific alchemy experiment goes wrong...     TV        64   \n",
       "3      The seemingly unimpressive Saitama has a rathe...     TV        12   \n",
       "4      Ever since the release of the innovative Nerve...     TV        25   \n",
       "...                                                  ...    ...       ...   \n",
       "21455                                            Unknown  Movie         1   \n",
       "21456                                            Unknown  Movie         1   \n",
       "21457                                            Unknown  Movie         1   \n",
       "21458                                            Unknown  Movie         1   \n",
       "21459                                            Unknown  Movie         1   \n",
       "\n",
       "                Status Start_Aired      End_Aired    Premiered  ...  \\\n",
       "0      Finished Airing    7-Apr-13      29-Sep-13  Spring 2013  ...   \n",
       "1      Finished Airing    4-Oct-06      27-Jun-07    Fall 2006  ...   \n",
       "2      Finished Airing    5-Apr-09       4-Jul-10  Spring 2009  ...   \n",
       "3      Finished Airing    5-Oct-15      21-Dec-15    Fall 2015  ...   \n",
       "4      Finished Airing    8-Jul-12      23-Dec-12  Summer 2012  ...   \n",
       "...                ...         ...            ...          ...  ...   \n",
       "21455  Finished Airing   12-May-18  Not Available      Unknown  ...   \n",
       "21456  Finished Airing   22-Aug-20  Not Available      Unknown  ...   \n",
       "21457  Finished Airing   16-Mar-18  Not Available      Unknown  ...   \n",
       "21458  Finished Airing   15-Aug-18  Not Available      Unknown  ...   \n",
       "21459  Finished Airing   10-Nov-18  Not Available      Unknown  ...   \n",
       "\n",
       "                         Themes Demographics Duration_Minutes  \\\n",
       "0      Gore, Military, Survival      Shounen               24   \n",
       "1                 Psychological      Shounen               23   \n",
       "2                      Military      Shounen               24   \n",
       "3           Parody, Super Power       Seinen               24   \n",
       "4      Love Polygon, Video Game      Unknown               23   \n",
       "...                         ...          ...              ...   \n",
       "21455                   Unknown         Kids               78   \n",
       "21456                   Unknown         Kids               80   \n",
       "21457                   Unknown      Unknown               80   \n",
       "21458                   Unknown      Unknown               90   \n",
       "21459                Historical         Kids               95   \n",
       "\n",
       "                               Rating  Score Scored_Users    Ranked  \\\n",
       "0      R - 17+ (violence & profanity)  8.531     519803.0    1002.0   \n",
       "1      R - 17+ (violence & profanity)  8.621     485487.0     732.0   \n",
       "2      R - 17+ (violence & profanity)  9.131     900398.0      12.0   \n",
       "3      R - 17+ (violence & profanity)  8.511      19066.0    1112.0   \n",
       "4           PG-13 - Teens 13 or older  7.201     990254.0   29562.0   \n",
       "...                               ...    ...          ...       ...   \n",
       "21455                    G - All Ages    NaN          NaN  160892.0   \n",
       "21456                    G - All Ages    NaN          NaN  160902.0   \n",
       "21457                    G - All Ages    NaN          NaN  164032.0   \n",
       "21458                    G - All Ages    NaN          NaN  164462.0   \n",
       "21459                    G - All Ages    NaN          NaN  193202.0   \n",
       "\n",
       "       Popularity  Members  Favorites  \n",
       "0               1  3524109     155695  \n",
       "1               2  3504535     159701  \n",
       "2               3  2978455     207772  \n",
       "3               4  2879907      59651  \n",
       "4               5  2813565      64997  \n",
       "...           ...      ...        ...  \n",
       "21455       21487        7          0  \n",
       "21456       21488        6          0  \n",
       "21457       21489        6          0  \n",
       "21458       21490        6          0  \n",
       "21459       21490        6          0  \n",
       "\n",
       "[21460 rows x 25 columns]"
      ]
     },
     "execution_count": 1,
     "metadata": {},
     "output_type": "execute_result"
    }
   ],
   "source": [
    "import pandas as pd\n",
    "anime = pd.read_csv('Anime.csv')\n",
    "anime"
   ]
  },
  {
   "cell_type": "code",
   "execution_count": 2,
   "id": "4baef7db",
   "metadata": {},
   "outputs": [
    {
     "name": "stdout",
     "output_type": "stream",
     "text": [
      "ID                    int64\n",
      "Title                object\n",
      "English              object\n",
      "Synopsis             object\n",
      "Type                 object\n",
      "Episodes              int64\n",
      "Status               object\n",
      "Start_Aired          object\n",
      "End_Aired            object\n",
      "Premiered            object\n",
      "Broadcast            object\n",
      "Licensors            object\n",
      "Studios              object\n",
      "Source               object\n",
      "Genres               object\n",
      "Themes               object\n",
      "Demographics         object\n",
      "Duration_Minutes      int64\n",
      "Rating               object\n",
      "Score               float64\n",
      "Scored_Users        float64\n",
      "Ranked              float64\n",
      "Popularity            int64\n",
      "Members               int64\n",
      "Favorites             int64\n",
      "dtype: object\n"
     ]
    }
   ],
   "source": [
    "print(anime.dtypes)"
   ]
  },
  {
   "cell_type": "markdown",
   "id": "55a423af",
   "metadata": {},
   "source": [
    "### Portfolio assignment 8\n",
    "15 min: \n",
    "- Calculate the 90%, 95%, 99% and 99.99% confidence interval for at least 2 columns with numerical data in the dataset that you chose in portfolio assignment 4. Do you see the impact the confidence has on the interval?\n",
    "- Now calculate the 95% confidence interval again but use only the first 10% of your rows. Compare this interval to the previous 95% confidence interval you calculated. Do you see the impact of having less data?"
   ]
  },
  {
   "cell_type": "code",
   "execution_count": 3,
   "id": "f0f76f78",
   "metadata": {},
   "outputs": [],
   "source": [
    "anime10Procent = anime.head(2145)"
   ]
  },
  {
   "cell_type": "markdown",
   "id": "e8851054",
   "metadata": {},
   "source": [
    "Wanneer de confidence van 0.9 -> 0.95 -> 0.99 gaat zie je dat de waardes steeds meer uit elkaar gaan liggen en een grotere marge pakken waar de waarde waarschijnlijk ligt. Je trechtert als het ware meer mogelijkheden eruit.\n",
    "Wanneer je met minder data werkt van je dataset ligt het eraan welke data je precies gebruikt welke verandering gaat plaatsvinden. Want het kan zomaar zijn dat je juist de laagste waardes pakt of juist de hoogste"
   ]
  },
  {
   "cell_type": "markdown",
   "id": "5a22b215",
   "metadata": {},
   "source": [
    "## Episodes"
   ]
  },
  {
   "cell_type": "code",
   "execution_count": 4,
   "id": "1220f481",
   "metadata": {},
   "outputs": [
    {
     "data": {
      "text/plain": [
       "(12.418780680060664, 13.501349795242227)"
      ]
     },
     "execution_count": 4,
     "metadata": {},
     "output_type": "execute_result"
    }
   ],
   "source": [
    "import scipy.stats as st\n",
    "confidence = 0.90\n",
    "st.t.interval(confidence, len(anime)-1, loc=anime['Episodes'].dropna().mean(), scale=st.sem(anime['Episodes'].dropna()))"
   ]
  },
  {
   "cell_type": "code",
   "execution_count": 5,
   "id": "11a4852d",
   "metadata": {},
   "outputs": [
    {
     "data": {
      "text/plain": [
       "(12.315076369913228, 13.605054105389662)"
      ]
     },
     "execution_count": 5,
     "metadata": {},
     "output_type": "execute_result"
    }
   ],
   "source": [
    "confidence = 0.95\n",
    "st.t.interval(confidence, len(anime)-1, loc=anime['Episodes'].dropna().mean(), scale=st.sem(anime['Episodes'].dropna()))"
   ]
  },
  {
   "cell_type": "code",
   "execution_count": 6,
   "id": "f1c87145",
   "metadata": {},
   "outputs": [
    {
     "data": {
      "text/plain": [
       "(12.112378590838583, 13.807751884464308)"
      ]
     },
     "execution_count": 6,
     "metadata": {},
     "output_type": "execute_result"
    }
   ],
   "source": [
    "confidence = 0.99\n",
    "st.t.interval(confidence, len(anime)-1, loc=anime['Episodes'].dropna().mean(), scale=st.sem(anime['Episodes'].dropna()))"
   ]
  },
  {
   "cell_type": "code",
   "execution_count": 7,
   "id": "fad411c3",
   "metadata": {},
   "outputs": [
    {
     "data": {
      "text/plain": [
       "(14.51398021424276, 16.681357781095233)"
      ]
     },
     "execution_count": 7,
     "metadata": {},
     "output_type": "execute_result"
    }
   ],
   "source": [
    "confidence = 0.95\n",
    "st.t.interval(confidence, len(anime)-1, loc=anime10Procent['Episodes'].dropna().mean(), scale=st.sem(anime10Procent['Episodes'].dropna()))"
   ]
  },
  {
   "cell_type": "markdown",
   "id": "4e516079",
   "metadata": {},
   "source": [
    "## Score"
   ]
  },
  {
   "cell_type": "code",
   "execution_count": 8,
   "id": "3eaf9805",
   "metadata": {},
   "outputs": [
    {
     "data": {
      "text/plain": [
       "(6.409313662885382, 6.434135313903444)"
      ]
     },
     "execution_count": 8,
     "metadata": {},
     "output_type": "execute_result"
    }
   ],
   "source": [
    "confidence = 0.90\n",
    "st.t.interval(confidence, len(anime)-1, loc=anime['Score'].dropna().mean(), scale=st.sem(anime['Score'].dropna()))"
   ]
  },
  {
   "cell_type": "code",
   "execution_count": 9,
   "id": "ddc5295d",
   "metadata": {},
   "outputs": [
    {
     "data": {
      "text/plain": [
       "(6.406935881957172, 6.436513094831654)"
      ]
     },
     "execution_count": 9,
     "metadata": {},
     "output_type": "execute_result"
    }
   ],
   "source": [
    "confidence = 0.95\n",
    "st.t.interval(confidence, len(anime)-1, loc=anime['Score'].dropna().mean(), scale=st.sem(anime['Score'].dropna()))"
   ]
  },
  {
   "cell_type": "code",
   "execution_count": 10,
   "id": "043cddfd",
   "metadata": {},
   "outputs": [
    {
     "data": {
      "text/plain": [
       "(6.402288332471629, 6.441160644317197)"
      ]
     },
     "execution_count": 10,
     "metadata": {},
     "output_type": "execute_result"
    }
   ],
   "source": [
    "confidence = 0.99\n",
    "st.t.interval(confidence, len(anime)-1, loc=anime['Score'].dropna().mean(), scale=st.sem(anime['Score'].dropna()))"
   ]
  },
  {
   "cell_type": "code",
   "execution_count": 11,
   "id": "c2eb58f5",
   "metadata": {},
   "outputs": [
    {
     "data": {
      "text/plain": [
       "(7.416454936312209, 7.47501128947897)"
      ]
     },
     "execution_count": 11,
     "metadata": {},
     "output_type": "execute_result"
    }
   ],
   "source": [
    "confidence = 0.95\n",
    "st.t.interval(confidence, len(anime)-1, loc=anime10Procent['Score'].dropna().mean(), scale=st.sem(anime10Procent['Score'].dropna()))"
   ]
  },
  {
   "cell_type": "markdown",
   "id": "41aa0363",
   "metadata": {},
   "source": [
    "## Members"
   ]
  },
  {
   "cell_type": "code",
   "execution_count": 12,
   "id": "82058649",
   "metadata": {},
   "outputs": [
    {
     "data": {
      "text/plain": [
       "(37507.13498656851, 41024.783745957124)"
      ]
     },
     "execution_count": 12,
     "metadata": {},
     "output_type": "execute_result"
    }
   ],
   "source": [
    "confidence = 0.90\n",
    "st.t.interval(confidence, len(anime)-1, loc=anime['Members'].mean(), scale=st.sem(anime['Members']))"
   ]
  },
  {
   "cell_type": "code",
   "execution_count": 13,
   "id": "0b707c9b",
   "metadata": {},
   "outputs": [
    {
     "data": {
      "text/plain": [
       "(37170.163117689546, 41361.75561483609)"
      ]
     },
     "execution_count": 13,
     "metadata": {},
     "output_type": "execute_result"
    }
   ],
   "source": [
    "confidence = 0.95\n",
    "st.t.interval(confidence, len(anime)-1, loc=anime['Members'].mean(), scale=st.sem(anime['Members']))"
   ]
  },
  {
   "cell_type": "code",
   "execution_count": 14,
   "id": "1f99a742",
   "metadata": {},
   "outputs": [
    {
     "data": {
      "text/plain": [
       "(36511.526564056505, 42020.39216846913)"
      ]
     },
     "execution_count": 14,
     "metadata": {},
     "output_type": "execute_result"
    }
   ],
   "source": [
    "confidence = 0.99\n",
    "st.t.interval(confidence, len(anime)-1, loc=anime['Members'].mean(), scale=st.sem(anime['Members']))"
   ]
  },
  {
   "cell_type": "code",
   "execution_count": 15,
   "id": "f0f9b149",
   "metadata": {},
   "outputs": [
    {
     "data": {
      "text/plain": [
       "(328512.82612904906, 332704.41862619563)"
      ]
     },
     "execution_count": 15,
     "metadata": {},
     "output_type": "execute_result"
    }
   ],
   "source": [
    "confidence = 0.95\n",
    "st.t.interval(confidence, len(anime)-1, loc=anime10Procent['Members'].mean(), scale=st.sem(anime['Members']))"
   ]
  },
  {
   "cell_type": "markdown",
   "id": "264f3383",
   "metadata": {},
   "source": [
    "## Popularity"
   ]
  },
  {
   "cell_type": "code",
   "execution_count": 16,
   "id": "e57f5223",
   "metadata": {},
   "outputs": [
    {
     "data": {
      "text/plain": [
       "(10673.432865100087, 10812.77449743486)"
      ]
     },
     "execution_count": 16,
     "metadata": {},
     "output_type": "execute_result"
    }
   ],
   "source": [
    "confidence = 0.90\n",
    "st.t.interval(confidence, len(anime)-1, loc=anime['Popularity'].mean(), scale=st.sem(anime['Popularity']))"
   ]
  },
  {
   "cell_type": "code",
   "execution_count": 17,
   "id": "55737fa1",
   "metadata": {},
   "outputs": [
    {
     "data": {
      "text/plain": [
       "(10660.084684689757, 10826.122677845191)"
      ]
     },
     "execution_count": 17,
     "metadata": {},
     "output_type": "execute_result"
    }
   ],
   "source": [
    "confidence = 0.95\n",
    "st.t.interval(confidence, len(anime)-1, loc=anime['Popularity'].mean(), scale=st.sem(anime['Popularity']))"
   ]
  },
  {
   "cell_type": "code",
   "execution_count": 18,
   "id": "bf00e836",
   "metadata": {},
   "outputs": [
    {
     "data": {
      "text/plain": [
       "(10633.994674351565, 10852.212688183383)"
      ]
     },
     "execution_count": 18,
     "metadata": {},
     "output_type": "execute_result"
    }
   ],
   "source": [
    "confidence = 0.99\n",
    "st.t.interval(confidence, len(anime)-1, loc=anime['Popularity'].mean(), scale=st.sem(anime['Popularity']))"
   ]
  },
  {
   "cell_type": "code",
   "execution_count": 19,
   "id": "daf0a14b",
   "metadata": {},
   "outputs": [
    {
     "data": {
      "text/plain": [
       "(989.9824020236815, 1156.020395179116)"
      ]
     },
     "execution_count": 19,
     "metadata": {},
     "output_type": "execute_result"
    }
   ],
   "source": [
    "confidence = 0.95\n",
    "st.t.interval(confidence, len(anime)-1, loc=anime10Procent['Popularity'].mean(), scale=st.sem(anime['Popularity']))"
   ]
  }
 ],
 "metadata": {
  "kernelspec": {
   "display_name": "Python 3 (ipykernel)",
   "language": "python",
   "name": "python3"
  },
  "language_info": {
   "codemirror_mode": {
    "name": "ipython",
    "version": 3
   },
   "file_extension": ".py",
   "mimetype": "text/x-python",
   "name": "python",
   "nbconvert_exporter": "python",
   "pygments_lexer": "ipython3",
   "version": "3.9.13"
  }
 },
 "nbformat": 4,
 "nbformat_minor": 5
}
