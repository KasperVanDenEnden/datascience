{
 "cells": [
  {
   "cell_type": "code",
   "execution_count": 1,
   "id": "26cf2ef5",
   "metadata": {},
   "outputs": [
    {
     "data": {
      "text/html": [
       "<div>\n",
       "<style scoped>\n",
       "    .dataframe tbody tr th:only-of-type {\n",
       "        vertical-align: middle;\n",
       "    }\n",
       "\n",
       "    .dataframe tbody tr th {\n",
       "        vertical-align: top;\n",
       "    }\n",
       "\n",
       "    .dataframe thead th {\n",
       "        text-align: right;\n",
       "    }\n",
       "</style>\n",
       "<table border=\"1\" class=\"dataframe\">\n",
       "  <thead>\n",
       "    <tr style=\"text-align: right;\">\n",
       "      <th></th>\n",
       "      <th>tourney_id</th>\n",
       "      <th>tourney_name</th>\n",
       "      <th>surface</th>\n",
       "      <th>draw_size</th>\n",
       "      <th>tourney_level</th>\n",
       "      <th>tourney_date</th>\n",
       "      <th>match_num</th>\n",
       "      <th>winner_id</th>\n",
       "      <th>winner_seed</th>\n",
       "      <th>winner_entry</th>\n",
       "      <th>...</th>\n",
       "      <th>w_bpFaced</th>\n",
       "      <th>l_ace</th>\n",
       "      <th>l_df</th>\n",
       "      <th>l_svpt</th>\n",
       "      <th>l_1stIn</th>\n",
       "      <th>l_1stWon</th>\n",
       "      <th>l_2ndWon</th>\n",
       "      <th>l_SvGms</th>\n",
       "      <th>l_bpSaved</th>\n",
       "      <th>l_bpFaced</th>\n",
       "    </tr>\n",
       "  </thead>\n",
       "  <tbody>\n",
       "    <tr>\n",
       "      <th>0</th>\n",
       "      <td>2000-717</td>\n",
       "      <td>Orlando</td>\n",
       "      <td>Clay</td>\n",
       "      <td>32</td>\n",
       "      <td>A</td>\n",
       "      <td>20000501</td>\n",
       "      <td>1</td>\n",
       "      <td>102179</td>\n",
       "      <td>NaN</td>\n",
       "      <td>NaN</td>\n",
       "      <td>...</td>\n",
       "      <td>15.0</td>\n",
       "      <td>13.0</td>\n",
       "      <td>4.0</td>\n",
       "      <td>110.0</td>\n",
       "      <td>59.0</td>\n",
       "      <td>49.0</td>\n",
       "      <td>31.0</td>\n",
       "      <td>17.0</td>\n",
       "      <td>4.0</td>\n",
       "      <td>4.0</td>\n",
       "    </tr>\n",
       "    <tr>\n",
       "      <th>1</th>\n",
       "      <td>2000-717</td>\n",
       "      <td>Orlando</td>\n",
       "      <td>Clay</td>\n",
       "      <td>32</td>\n",
       "      <td>A</td>\n",
       "      <td>20000501</td>\n",
       "      <td>2</td>\n",
       "      <td>103602</td>\n",
       "      <td>NaN</td>\n",
       "      <td>Q</td>\n",
       "      <td>...</td>\n",
       "      <td>6.0</td>\n",
       "      <td>0.0</td>\n",
       "      <td>0.0</td>\n",
       "      <td>57.0</td>\n",
       "      <td>24.0</td>\n",
       "      <td>13.0</td>\n",
       "      <td>17.0</td>\n",
       "      <td>10.0</td>\n",
       "      <td>4.0</td>\n",
       "      <td>9.0</td>\n",
       "    </tr>\n",
       "    <tr>\n",
       "      <th>2</th>\n",
       "      <td>2000-717</td>\n",
       "      <td>Orlando</td>\n",
       "      <td>Clay</td>\n",
       "      <td>32</td>\n",
       "      <td>A</td>\n",
       "      <td>20000501</td>\n",
       "      <td>3</td>\n",
       "      <td>103387</td>\n",
       "      <td>NaN</td>\n",
       "      <td>NaN</td>\n",
       "      <td>...</td>\n",
       "      <td>0.0</td>\n",
       "      <td>2.0</td>\n",
       "      <td>2.0</td>\n",
       "      <td>65.0</td>\n",
       "      <td>39.0</td>\n",
       "      <td>22.0</td>\n",
       "      <td>10.0</td>\n",
       "      <td>8.0</td>\n",
       "      <td>6.0</td>\n",
       "      <td>10.0</td>\n",
       "    </tr>\n",
       "    <tr>\n",
       "      <th>3</th>\n",
       "      <td>2000-717</td>\n",
       "      <td>Orlando</td>\n",
       "      <td>Clay</td>\n",
       "      <td>32</td>\n",
       "      <td>A</td>\n",
       "      <td>20000501</td>\n",
       "      <td>4</td>\n",
       "      <td>101733</td>\n",
       "      <td>NaN</td>\n",
       "      <td>NaN</td>\n",
       "      <td>...</td>\n",
       "      <td>12.0</td>\n",
       "      <td>4.0</td>\n",
       "      <td>6.0</td>\n",
       "      <td>104.0</td>\n",
       "      <td>57.0</td>\n",
       "      <td>35.0</td>\n",
       "      <td>24.0</td>\n",
       "      <td>15.0</td>\n",
       "      <td>6.0</td>\n",
       "      <td>11.0</td>\n",
       "    </tr>\n",
       "    <tr>\n",
       "      <th>4</th>\n",
       "      <td>2000-717</td>\n",
       "      <td>Orlando</td>\n",
       "      <td>Clay</td>\n",
       "      <td>32</td>\n",
       "      <td>A</td>\n",
       "      <td>20000501</td>\n",
       "      <td>5</td>\n",
       "      <td>101727</td>\n",
       "      <td>4.0</td>\n",
       "      <td>NaN</td>\n",
       "      <td>...</td>\n",
       "      <td>1.0</td>\n",
       "      <td>0.0</td>\n",
       "      <td>3.0</td>\n",
       "      <td>47.0</td>\n",
       "      <td>28.0</td>\n",
       "      <td>17.0</td>\n",
       "      <td>10.0</td>\n",
       "      <td>8.0</td>\n",
       "      <td>3.0</td>\n",
       "      <td>6.0</td>\n",
       "    </tr>\n",
       "  </tbody>\n",
       "</table>\n",
       "<p>5 rows × 49 columns</p>\n",
       "</div>"
      ],
      "text/plain": [
       "  tourney_id tourney_name surface  draw_size tourney_level  tourney_date  \\\n",
       "0   2000-717      Orlando    Clay         32             A      20000501   \n",
       "1   2000-717      Orlando    Clay         32             A      20000501   \n",
       "2   2000-717      Orlando    Clay         32             A      20000501   \n",
       "3   2000-717      Orlando    Clay         32             A      20000501   \n",
       "4   2000-717      Orlando    Clay         32             A      20000501   \n",
       "\n",
       "   match_num  winner_id  winner_seed winner_entry  ... w_bpFaced l_ace  l_df  \\\n",
       "0          1     102179          NaN          NaN  ...      15.0  13.0   4.0   \n",
       "1          2     103602          NaN            Q  ...       6.0   0.0   0.0   \n",
       "2          3     103387          NaN          NaN  ...       0.0   2.0   2.0   \n",
       "3          4     101733          NaN          NaN  ...      12.0   4.0   6.0   \n",
       "4          5     101727          4.0          NaN  ...       1.0   0.0   3.0   \n",
       "\n",
       "  l_svpt  l_1stIn  l_1stWon  l_2ndWon  l_SvGms  l_bpSaved l_bpFaced  \n",
       "0  110.0     59.0      49.0      31.0     17.0        4.0       4.0  \n",
       "1   57.0     24.0      13.0      17.0     10.0        4.0       9.0  \n",
       "2   65.0     39.0      22.0      10.0      8.0        6.0      10.0  \n",
       "3  104.0     57.0      35.0      24.0     15.0        6.0      11.0  \n",
       "4   47.0     28.0      17.0      10.0      8.0        3.0       6.0  \n",
       "\n",
       "[5 rows x 49 columns]"
      ]
     },
     "execution_count": 1,
     "metadata": {},
     "output_type": "execute_result"
    }
   ],
   "source": [
    "import pandas as pd\n",
    "tennis = pd.read_csv('atp_matches_2000.csv', sep=',')\n",
    "tennis.head()"
   ]
  },
  {
   "cell_type": "code",
   "execution_count": 2,
   "id": "ccafdc66",
   "metadata": {},
   "outputs": [
    {
     "name": "stdout",
     "output_type": "stream",
     "text": [
      "tourney_id\n",
      "tourney_name\n",
      "surface\n",
      "draw_size\n",
      "tourney_level\n",
      "tourney_date\n",
      "match_num\n",
      "winner_id\n",
      "winner_seed\n",
      "winner_entry\n",
      "winner_name\n",
      "winner_hand\n",
      "winner_ht\n",
      "winner_ioc\n",
      "winner_age\n",
      "winner_rank\n",
      "winner_rank_points\n",
      "loser_id\n",
      "loser_seed\n",
      "loser_entry\n",
      "loser_name\n",
      "loser_hand\n",
      "loser_ht\n",
      "loser_ioc\n",
      "loser_age\n",
      "loser_rank\n",
      "loser_rank_points\n",
      "score\n",
      "best_of\n",
      "round\n",
      "minutes\n",
      "w_ace\n",
      "w_df\n",
      "w_svpt\n",
      "w_1stIn\n",
      "w_1stWon\n",
      "w_2ndWon\n",
      "w_SvGms\n",
      "w_bpSaved\n",
      "w_bpFaced\n",
      "l_ace\n",
      "l_df\n",
      "l_svpt\n",
      "l_1stIn\n",
      "l_1stWon\n",
      "l_2ndWon\n",
      "l_SvGms\n",
      "l_bpSaved\n",
      "l_bpFaced\n"
     ]
    }
   ],
   "source": [
    "# iterating the columns\n",
    "for col in tennis.columns:\n",
    "    print(col)"
   ]
  },
  {
   "cell_type": "markdown",
   "id": "0a3054d8",
   "metadata": {},
   "source": [
    "# Portfolio assignment 7\n",
    "15 min: \n",
    "Look at the histogram of at least 2 columns with numerical data in the dataset that you chose in portfolio assignment 4. Do you recognise the distribution? Does it look like a uniform or normal distribution or something else? If it doesn't look like a uniform or normal distribution, take a quick look here to see if you can find the distribution shape: https://www.itl.nist.gov/div898/handbook/eda/section3/eda366.htm"
   ]
  },
  {
   "cell_type": "code",
   "execution_count": 8,
   "id": "4f963c0a",
   "metadata": {},
   "outputs": [
    {
     "data": {
      "text/plain": [
       "<AxesSubplot:ylabel='Frequency'>"
      ]
     },
     "execution_count": 8,
     "metadata": {},
     "output_type": "execute_result"
    },
    {
     "data": {
      "image/png": "[encoded data removed]",
      "text/plain": [
       "<Figure size 640x480 with 1 Axes>"
      ]
     },
     "metadata": {},
     "output_type": "display_data"
    }
   ],
   "source": [
    "tennis['minutes'].plot(kind='hist',bins=150)"
   ]
  },
  {
   "cell_type": "code",
   "execution_count": 16,
   "id": "eec400a4",
   "metadata": {},
   "outputs": [
    {
     "data": {
      "text/plain": [
       "<AxesSubplot:ylabel='Frequency'>"
      ]
     },
     "execution_count": 16,
     "metadata": {},
     "output_type": "execute_result"
    },
    {
     "data": {
      "image/png": "[encoded data removed]",
      "text/plain": [
       "<Figure size 640x480 with 1 Axes>"
      ]
     },
     "metadata": {},
     "output_type": "display_data"
    }
   ],
   "source": [
    "tennis['l_1stWon'].plot(kind='hist',bins=100)"
   ]
  },
  {
   "cell_type": "markdown",
   "id": "ebc27719",
   "metadata": {},
   "source": [
    "# Portfolio assignment 8\n",
    "\n",
    "15 min:\n",
    "\n",
    "Calculate the 90%, 95%, 99% and 99.99% confidence interval for at least 2 columns with numerical data in the dataset that you chose in portfolio assignment 4. Do you see the impact the confidence has on the interval?\n",
    "Now calculate the 95% confidence interval again but use only the first 10% of your rows. Compare this interval to the previous 95% confidence interval you calculated. Do you see the impact of having less data?\n"
   ]
  },
  {
   "cell_type": "code",
   "execution_count": 19,
   "id": "ed964f97",
   "metadata": {},
   "outputs": [],
   "source": [
    "import scipy.stats as st\n",
    "confidence = 0.95"
   ]
  },
  {
   "cell_type": "code",
   "execution_count": 20,
   "id": "7d0a3c81",
   "metadata": {},
   "outputs": [],
   "source": [
    "minutes = tennis['minutes']"
   ]
  },
  {
   "cell_type": "code",
   "execution_count": 21,
   "id": "1e9e90c2",
   "metadata": {},
   "outputs": [
    {
     "data": {
      "text/plain": [
       "(nan, nan)"
      ]
     },
     "execution_count": 21,
     "metadata": {},
     "output_type": "execute_result"
    }
   ],
   "source": [
    "st.t.interval(confidence, len(minutes)-1, loc=minutes.mean(), scale=st.sem(minutes))"
   ]
  },
  {
   "cell_type": "code",
   "execution_count": null,
   "id": "99b42393",
   "metadata": {},
   "outputs": [],
   "source": []
  }
 ],
 "metadata": {
  "kernelspec": {
   "display_name": "Python 3 (ipykernel)",
   "language": "python",
   "name": "python3"
  },
  "language_info": {
   "codemirror_mode": {
    "name": "ipython",
    "version": 3
   },
   "file_extension": ".py",
   "mimetype": "text/x-python",
   "name": "python",
   "nbconvert_exporter": "python",
   "pygments_lexer": "ipython3",
   "version": "3.9.13"
  }
 },
 "nbformat": 4,
 "nbformat_minor": 5
}
